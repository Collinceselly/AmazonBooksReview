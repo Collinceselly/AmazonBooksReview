{
 "cells": [
  {
   "cell_type": "code",
   "execution_count": null,
   "id": "93f35348",
   "metadata": {},
   "outputs": [],
   "source": [
    "import random\n",
    "\n",
    "class Sentiment:\n",
    "    NEGATIVE = \"NEGATIVE\"\n",
    "    NEUTRAL = \"NEUTRAL\"\n",
    "    POSITIVE = \"POSITIVE\"\n",
    "\n",
    "class Review:\n",
    "    def __init__(self, text, score):\n",
    "        self.text = text\n",
    "        self.score = score\n",
    "        self.sentiment = self.get_sentiment()\n",
    "        \n",
    "    def get_sentiment(self):\n",
    "        if self.score <= 2:\n",
    "            return Sentiment.NEGATIVE\n",
    "        elif self.score == 3:\n",
    "            return Sentiment.NEUTRAL\n",
    "        else:\n",
    "            return Sentiment.POSITIVE\n",
    "        \n",
    "class ReviewContainer:\n",
    "    def __init__(self, reviews):\n",
    "        self.reviews = reviews\n",
    "        \n",
    "    def get_text(self):\n",
    "        return [x.text for x in self.reviews]\n",
    "    \n",
    "    def get_sentiment(self):\n",
    "        return [x.sentiment for x in self.reviews]\n",
    "        \n",
    "    def evenly_distribute(self):\n",
    "        negative = list(filter(lambda x: x.sentiment == Sentiment.NEGATIVE, self.reviews))\n",
    "        positive = list(filter(lambda x: x.sentiment == Sentiment.POSITIVE, self.reviews))\n",
    "#         neutral = list(filter(lambda x: x.sentiment == Sentiment.NEUTRAL, self.reviews))\n",
    "        positive_shrunk = positive[:len(negative)]\n",
    "#         neutral_shrunk = neutral[:len(negative)]\n",
    "        self.reviews = negative + positive_shrunk\n",
    "        random.shuffle(self.reviews)\n",
    "        \n",
    "        "
   ]
  },
  {
   "cell_type": "markdown",
   "id": "9e1c2099",
   "metadata": {},
   "source": [
    "### Load Data"
   ]
  },
  {
   "cell_type": "code",
   "execution_count": null,
   "id": "d7c611d4",
   "metadata": {},
   "outputs": [],
   "source": [
    "import json"
   ]
  },
  {
   "cell_type": "code",
   "execution_count": null,
   "id": "16e09d79",
   "metadata": {},
   "outputs": [],
   "source": [
    "file_name = \"./datasets/SciLearn/books_review.json\"\n",
    "\n",
    "reviews = []\n",
    "with open(file_name) as f:\n",
    "    for line in f:\n",
    "        review = json.loads(line)\n",
    "        reviews.append(Review(review['reviewText'], review['overall']))\n",
    "\n",
    "reviews[0].text"
   ]
  },
  {
   "cell_type": "markdown",
   "id": "fecfa910",
   "metadata": {},
   "source": [
    "### Data Preparation"
   ]
  },
  {
   "cell_type": "code",
   "execution_count": null,
   "id": "ca1d551e",
   "metadata": {},
   "outputs": [],
   "source": [
    "from sklearn.model_selection import train_test_split\n",
    "\n",
    "training, test = train_test_split(reviews, test_size = 0.33, random_state = 42)\n",
    "\n",
    "train_container = ReviewContainer(training)\n",
    "\n",
    "test_container = ReviewContainer(test)\n"
   ]
  },
  {
   "cell_type": "code",
   "execution_count": null,
   "id": "eabe55e1",
   "metadata": {},
   "outputs": [],
   "source": [
    "train_container.evenly_distribute()\n",
    "\n",
    "train_x = train_container.get_text()\n",
    "train_y = train_container.get_sentiment()\n",
    "\n",
    "test_container.evenly_distribute()\n",
    "test_x = test_container.get_text()\n",
    "test_y = test_container.get_sentiment()\n",
    "\n",
    "# train_y.count(Sentiment.NEUTRAL)"
   ]
  },
  {
   "cell_type": "code",
   "execution_count": null,
   "id": "c225d02f",
   "metadata": {},
   "outputs": [],
   "source": [
    "len(train_x)"
   ]
  },
  {
   "cell_type": "code",
   "execution_count": null,
   "id": "93eb3f3a",
   "metadata": {},
   "outputs": [],
   "source": [
    "len(test_x)"
   ]
  },
  {
   "cell_type": "code",
   "execution_count": null,
   "id": "0beb1986",
   "metadata": {},
   "outputs": [],
   "source": [
    "train_x[0]"
   ]
  },
  {
   "cell_type": "markdown",
   "id": "235fe74d",
   "metadata": {},
   "source": [
    "### Bags of words vectorization"
   ]
  },
  {
   "cell_type": "code",
   "execution_count": null,
   "id": "a77b1b50",
   "metadata": {},
   "outputs": [],
   "source": [
    "from sklearn.feature_extraction.text import CountVectorizer, TfidfVectorizer\n",
    "\n",
    "vectorizer = TfidfVectorizer()\n",
    "\n",
    "train_x_vectors = vectorizer.fit_transform(train_x)\n",
    "\n",
    "test_x_vectors = vectorizer.transform(test_x)\n",
    "\n",
    "print(train_x[0])\n",
    "print(train_x_vectors[0].toarray())\n",
    "\n",
    "# train_x_vectors\n",
    "# train_y"
   ]
  },
  {
   "cell_type": "markdown",
   "id": "f66c4bb8",
   "metadata": {},
   "source": [
    "### Classification"
   ]
  },
  {
   "cell_type": "markdown",
   "id": "5e4ee104",
   "metadata": {},
   "source": [
    "### Linear svm"
   ]
  },
  {
   "cell_type": "code",
   "execution_count": null,
   "id": "d91059d0",
   "metadata": {},
   "outputs": [],
   "source": [
    "from sklearn import svm\n",
    "\n",
    "clf_svm = svm.SVC(kernel = 'linear')\n",
    "\n",
    "clf_svm.fit(train_x_vectors, train_y)\n",
    "\n",
    "test_x[0]\n",
    "\n",
    "clf_svm.predict(test_x_vectors[0])"
   ]
  },
  {
   "cell_type": "markdown",
   "id": "67939fc7",
   "metadata": {},
   "source": [
    "### Decision Tree"
   ]
  },
  {
   "cell_type": "code",
   "execution_count": null,
   "id": "5f9ad8ec",
   "metadata": {},
   "outputs": [],
   "source": [
    "from sklearn.tree import DecisionTreeClassifier\n",
    "\n",
    "clf_dec = DecisionTreeClassifier(random_state = 0)\n",
    "\n",
    "clf_dec.fit(train_x_vectors, train_y)\n",
    "\n",
    "clf_dec.predict(test_x_vectors[0])"
   ]
  },
  {
   "cell_type": "markdown",
   "id": "aa2ef5a0",
   "metadata": {},
   "source": [
    "### Naive Bayes"
   ]
  },
  {
   "cell_type": "code",
   "execution_count": null,
   "id": "92ab6fb2",
   "metadata": {},
   "outputs": [],
   "source": [
    "from sklearn.naive_bayes import GaussianNB\n",
    "\n",
    "clf_naive = GaussianNB()\n",
    "\n",
    "clf_naive.fit(train_x_vectors.toarray(), train_y)\n",
    "\n",
    "clf_naive.predict(test_x_vectors[0].toarray())"
   ]
  },
  {
   "cell_type": "markdown",
   "id": "15529689",
   "metadata": {},
   "source": [
    "### K nearest neighbors"
   ]
  },
  {
   "cell_type": "code",
   "execution_count": null,
   "id": "d89db59d",
   "metadata": {},
   "outputs": [],
   "source": [
    "from sklearn.neighbors import KNeighborsClassifier\n",
    "\n",
    "clf_neigh = KNeighborsClassifier()\n",
    "\n",
    "clf_neigh.fit(train_x_vectors, train_y)\n",
    "\n",
    "clf_neigh.predict(test_x_vectors[0])"
   ]
  },
  {
   "cell_type": "markdown",
   "id": "1aec5ed8",
   "metadata": {},
   "source": [
    "### Evaluation"
   ]
  },
  {
   "cell_type": "code",
   "execution_count": null,
   "id": "ec35d501",
   "metadata": {},
   "outputs": [],
   "source": [
    "# Mean accuracy score for every classifier\n",
    "\n",
    "print('SVM scored', clf_svm.score(test_x_vectors, test_y))\n",
    "print('Decision Tree scored', clf_dec.score(test_x_vectors, test_y))\n",
    "print('Naive bayes scored', clf_naive.score(test_x_vectors.toarray(), test_y))\n",
    "print('K nearest neighbor scored', clf_neigh.score(test_x_vectors, test_y))"
   ]
  },
  {
   "cell_type": "code",
   "execution_count": null,
   "id": "316a4b47",
   "metadata": {},
   "outputs": [],
   "source": [
    "# F1 Scores\n",
    "\n",
    "from sklearn.metrics import f1_score\n",
    "\n",
    "print('F1 score for SVM is',f1_score(test_y, clf_svm.predict(test_x_vectors), average = None, labels = [Sentiment.POSITIVE, Sentiment.NEUTRAL, Sentiment.NEGATIVE]))\n",
    "print('F1 score for Decision Tree is',f1_score(test_y, clf_dec.predict(test_x_vectors), average = None, labels = [Sentiment.POSITIVE, Sentiment.NEUTRAL, Sentiment.NEGATIVE]))\n",
    "print('F1 score for Naive Bayes is',f1_score(test_y, clf_naive.predict(test_x_vectors.toarray()), average = None, labels = [Sentiment.POSITIVE, Sentiment.NEUTRAL, Sentiment.NEGATIVE]))\n",
    "print('F1 score for K nearest Neighbor is',f1_score(test_y, clf_neigh.predict(test_x_vectors), average = None, labels = [Sentiment.POSITIVE, Sentiment.NEUTRAL, Sentiment.NEGATIVE]))"
   ]
  },
  {
   "cell_type": "code",
   "execution_count": null,
   "id": "82244d4b",
   "metadata": {},
   "outputs": [],
   "source": [
    "print(train_y.count(Sentiment.POSITIVE))\n",
    "print(train_y.count(Sentiment.NEUTRAL))\n",
    "print(train_y.count(Sentiment.NEGATIVE))"
   ]
  },
  {
   "cell_type": "code",
   "execution_count": null,
   "id": "9a9ca2d8",
   "metadata": {},
   "outputs": [],
   "source": [
    "test_set = ['I thorougly enjoyed this book, 5 star', 'Bad book, do not buy', 'horrible waste of time']\n",
    "new_test = vectorizer.transform(test_set)"
   ]
  },
  {
   "cell_type": "code",
   "execution_count": null,
   "id": "e8a202d8",
   "metadata": {},
   "outputs": [],
   "source": [
    "print(clf_svm.predict(new_test))\n",
    "print(clf_neigh.predict(new_test))\n",
    "print(clf_naive.predict(new_test.toarray()))\n",
    "print(clf_dec.predict(new_test))"
   ]
  },
  {
   "cell_type": "code",
   "execution_count": null,
   "id": "641c73c4",
   "metadata": {},
   "outputs": [],
   "source": [
    "test_set1 = ['The most interesting book I have ever read', 'I did not like it, especially the negative attitude of the characters', 'Very creative author, highly recommended']\n",
    "new_test1 = vectorizer.transform(test_set1)"
   ]
  },
  {
   "cell_type": "code",
   "execution_count": null,
   "id": "d9d85002",
   "metadata": {},
   "outputs": [],
   "source": [
    "print(clf_svm.predict(new_test1))\n",
    "print(clf_neigh.predict(new_test1))\n",
    "print(clf_naive.predict(new_test1.toarray()))\n",
    "print(clf_dec.predict(new_test1))"
   ]
  },
  {
   "cell_type": "markdown",
   "id": "b4466b80",
   "metadata": {},
   "source": [
    "### Tuning our model (with grid search)"
   ]
  },
  {
   "cell_type": "code",
   "execution_count": null,
   "id": "c53ed6a0",
   "metadata": {},
   "outputs": [],
   "source": [
    "from sklearn.model_selection import GridSearchCV\n",
    "\n",
    "parameters = {'kernel': ('linear', 'rbf'), 'C' : (1,4,8,16,32)}\n",
    "svc = svm.SVC()\n",
    "clf = GridSearchCV(svc, parameters, cv = 5)\n",
    "clf.fit(train_x_vectors, train_y)"
   ]
  },
  {
   "cell_type": "code",
   "execution_count": null,
   "id": "21262c76",
   "metadata": {},
   "outputs": [],
   "source": [
    "print('SVM scored', clf.score(test_x_vectors, test_y))"
   ]
  },
  {
   "cell_type": "markdown",
   "id": "aec11871",
   "metadata": {},
   "source": [
    "### Saving model"
   ]
  },
  {
   "cell_type": "code",
   "execution_count": null,
   "id": "b4e309bc",
   "metadata": {},
   "outputs": [],
   "source": [
    "import pickle\n",
    "\n",
    "with open('./datasets/SciLearn/models/sentiment_classifier.pkl', 'wb') as f:\n",
    "    pickle.dump(clf, f)\n"
   ]
  },
  {
   "cell_type": "code",
   "execution_count": null,
   "id": "5fced80c",
   "metadata": {},
   "outputs": [],
   "source": [
    "with open('./datasets/SciLearn/models/sentiment_classifier.pkl', 'rb') as f:\n",
    "    loaded_clf = pickle.load(f)\n",
    "    "
   ]
  },
  {
   "cell_type": "code",
   "execution_count": null,
   "id": "2dffcb1e",
   "metadata": {},
   "outputs": [],
   "source": [
    "print(test_x[25])\n",
    "\n",
    "loaded_clf.predict(test_x_vectors[25])"
   ]
  },
  {
   "cell_type": "code",
   "execution_count": null,
   "id": "9620d0ec",
   "metadata": {},
   "outputs": [],
   "source": []
  }
 ],
 "metadata": {
  "kernelspec": {
   "display_name": "Python 3 (ipykernel)",
   "language": "python",
   "name": "python3"
  },
  "language_info": {
   "codemirror_mode": {
    "name": "ipython",
    "version": 3
   },
   "file_extension": ".py",
   "mimetype": "text/x-python",
   "name": "python",
   "nbconvert_exporter": "python",
   "pygments_lexer": "ipython3",
   "version": "3.10.9"
  }
 },
 "nbformat": 4,
 "nbformat_minor": 5
}
